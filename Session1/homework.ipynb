{
 "cells": [
  {
   "cell_type": "code",
   "execution_count": null,
   "metadata": {},
   "outputs": [],
   "source": [
    "# Câu 1: Python là một ngôn ngữ bậc cao, có nhiều thư viện hỗ trợ về thuật toán trong AI nên Python có thể  làm mô hình Machine Learning,... các mô hình học máy khác. \n",
    "# Ngoài ra Python cũng có thể được sử dụng để xây dựng backend cho sản phẩm."
   ]
  },
  {
   "cell_type": "code",
   "execution_count": null,
   "metadata": {},
   "outputs": [],
   "source": [
    "# Câu 2: \n",
    "# Điểm khác biệt:\n",
    "# - Ở Cpp thì cần dấu ngoặc nhọn và chấm phẩy để chạy chương trình còn Python thì chỉ cần thụt lề và cách là chương trình có thể chạy được.\n",
    "# - Các biến trong C ++ cần phải có một kiểu như float hoặc int vì ngôn ngữ này được định kiểu tĩnh. Nhập động là một tính năng của Python, nghĩa là không cần chỉ ra loại đối tượng."
   ]
  },
  {
   "cell_type": "code",
   "execution_count": null,
   "metadata": {},
   "outputs": [],
   "source": [
    "# Câu 3:\n",
    "# Python là ngôn ngữ thông dịch. Vì ngôn ngữ thực thi từng dòng lệnh, nếu có lỗi thì chương trình sẽ ngừng hoạt động"
   ]
  },
  {
   "cell_type": "code",
   "execution_count": null,
   "metadata": {},
   "outputs": [],
   "source": [
    "# Câu 5:\n",
    "# - Khai báo biến bằng cách dùng cú pháp \"tên biến = giá trị\"\n",
    "a = 2\n",
    "b = 3\n",
    "name = \"Vu Nam Anh\"\n",
    "\n",
    "# - Các toán tử:\n",
    "#     + Toán tử số học: //, +, -, *, /, %, **\n",
    "c = a // b \n",
    "c = a + b\n",
    "...\n",
    "#     + Toán tử quan hệ: <, >, <=, >=, ==, !=, <>\n",
    "a > b\n",
    "a != b\n",
    "...\n",
    "#     + Toán tử gán: =, /=, +=, -=, *=, %=, **=, //=\n",
    "a = b\n",
    "a += b\n",
    "...\n",
    "#     + Toán tử logic: and, or, not\n",
    "a and b\n",
    "a or b\n",
    "...\n",
    "#     + Toán tử thao tác bit: &, |, ^, <<, >>, ~\n",
    "a >> b\n",
    "a ^ b\n",
    "...\n",
    "#     + Toán tử membership: in, not in\n",
    "a in b\n",
    "a not in b\n",
    "#     + Toán tử identify: is, is not\n",
    "a is b\n",
    "a is not b\n",
    "\n",
    "#  - Về cơ bản thì các kiểu dữ liệu của các ngôn ngữ lập trình là tương đối giống nhau. Ở Python chúng ta có những kiểu dữ liệu như: int, float, bool, str, complex, list, tuple, range, dict, set, frozenset, bytes, bytearray, memoryview.\n",
    "d = 5\n",
    "e = 5.1\n",
    "f = [1,2,3]\n",
    "g = True\n",
    "j = {\n",
    "    \"name\" : \"Nam Anh\",\n",
    "    \"age\" : 18,\n",
    "    \"male\" : True\n",
    "}\n",
    "k = ('Nam Anh', 18, 'male')\n"
   ]
  }
 ],
 "metadata": {
  "language_info": {
   "name": "python"
  }
 },
 "nbformat": 4,
 "nbformat_minor": 2
}
